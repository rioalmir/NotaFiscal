{
 "cells": [
  {
   "cell_type": "markdown",
   "id": "c678084d",
   "metadata": {},
   "source": [
    "### Importando Módulos"
   ]
  },
  {
   "cell_type": "code",
   "execution_count": 2,
   "id": "e7f58f11",
   "metadata": {},
   "outputs": [
    {
     "ename": "ModuleNotFoundError",
     "evalue": "No module named 'webdriver_manager'",
     "output_type": "error",
     "traceback": [
      "\u001b[1;31m---------------------------------------------------------------------------\u001b[0m",
      "\u001b[1;31mModuleNotFoundError\u001b[0m                       Traceback (most recent call last)",
      "Cell \u001b[1;32mIn [2], line 3\u001b[0m\n\u001b[0;32m      1\u001b[0m \u001b[39mfrom\u001b[39;00m \u001b[39mselenium\u001b[39;00m \u001b[39mimport\u001b[39;00m webdriver\n\u001b[0;32m      2\u001b[0m \u001b[39mfrom\u001b[39;00m \u001b[39mselenium\u001b[39;00m\u001b[39m.\u001b[39;00m\u001b[39mwebdriver\u001b[39;00m\u001b[39m.\u001b[39;00m\u001b[39mchrome\u001b[39;00m\u001b[39m.\u001b[39;00m\u001b[39mservice\u001b[39;00m \u001b[39mimport\u001b[39;00m Service\n\u001b[1;32m----> 3\u001b[0m \u001b[39mfrom\u001b[39;00m \u001b[39mwebdriver_manager\u001b[39;00m\u001b[39m.\u001b[39;00m\u001b[39mchrome\u001b[39;00m \u001b[39mimport\u001b[39;00m ChromeDriverManager\n\u001b[0;32m      4\u001b[0m \u001b[39mfrom\u001b[39;00m \u001b[39mselenium\u001b[39;00m\u001b[39m.\u001b[39;00m\u001b[39mwebdriver\u001b[39;00m\u001b[39m.\u001b[39;00m\u001b[39mcommon\u001b[39;00m\u001b[39m.\u001b[39;00m\u001b[39mby\u001b[39;00m \u001b[39mimport\u001b[39;00m By\n\u001b[0;32m      6\u001b[0m options \u001b[39m=\u001b[39m webdriver\u001b[39m.\u001b[39mChromeOptions()\n",
      "\u001b[1;31mModuleNotFoundError\u001b[0m: No module named 'webdriver_manager'"
     ]
    }
   ],
   "source": [
    "from selenium import webdriver\n",
    "from selenium.webdriver.chrome.service import Service\n",
    "from webdriver_manager.chrome import ChromeDriverManager\n",
    "from selenium.webdriver.common.by import By\n",
    "\n",
    "options = webdriver.ChromeOptions()\n",
    "options.add_experimental_option(\"prefs\", {\n",
    "  \"download.default_directory\": r'C:\\Users\\rioal\\Downloads',\n",
    "  \"download.prompt_for_download\": False,\n",
    "  \"download.directory_upgrade\": True,\n",
    "  \"safebrowsing.enabled\": True\n",
    "})\n",
    "\n",
    "servico = Service(ChromeDriverManager().install())\n",
    "navegador = webdriver.Chrome(service=servico, options=options)"
   ]
  },
  {
   "cell_type": "code",
   "execution_count": 3,
   "id": "ee3f4e27",
   "metadata": {},
   "outputs": [
    {
     "ename": "NameError",
     "evalue": "name 'navegador' is not defined",
     "output_type": "error",
     "traceback": [
      "\u001b[1;31m---------------------------------------------------------------------------\u001b[0m",
      "\u001b[1;31mNameError\u001b[0m                                 Traceback (most recent call last)",
      "Cell \u001b[1;32mIn [3], line 6\u001b[0m\n\u001b[0;32m      4\u001b[0m caminho \u001b[39m=\u001b[39m os\u001b[39m.\u001b[39mgetcwd()\n\u001b[0;32m      5\u001b[0m arquivo \u001b[39m=\u001b[39m caminho \u001b[39m+\u001b[39m \u001b[39mr\u001b[39m\u001b[39m\"\u001b[39m\u001b[39m\\\u001b[39m\u001b[39mlogin.html\u001b[39m\u001b[39m\"\u001b[39m\n\u001b[1;32m----> 6\u001b[0m navegador\u001b[39m.\u001b[39mget(arquivo)\n",
      "\u001b[1;31mNameError\u001b[0m: name 'navegador' is not defined"
     ]
    }
   ],
   "source": [
    "# entrar na página de login (no nosso caso é login.html)\n",
    "import os\n",
    "\n",
    "caminho = os.getcwd()\n",
    "arquivo = caminho + r\"\\login.html\"\n",
    "navegador.get(arquivo)"
   ]
  },
  {
   "cell_type": "code",
   "execution_count": null,
   "id": "16811d38",
   "metadata": {},
   "outputs": [],
   "source": [
    "# preencher o login e a senha\n",
    "navegador.find_element(By.XPATH, '/html/body/div/form/input[1]').send_keys(\"lira@gmail.com\")\n",
    "navegador.find_element(By.XPATH, '/html/body/div/form/input[2]').send_keys(\"123456\")\n",
    "# clicar no botao de fazer login\n",
    "navegador.find_element(By.XPATH, '/html/body/div/form/button').click()"
   ]
  },
  {
   "cell_type": "code",
   "execution_count": null,
   "id": "e01dc48c",
   "metadata": {},
   "outputs": [],
   "source": [
    "# importar a base de clientes\n",
    "import pandas as pd\n",
    "\n",
    "tabela = pd.read_excel(\"NotasEmitir.xlsx\") \n",
    "display(tabela)"
   ]
  },
  {
   "cell_type": "code",
   "execution_count": null,
   "id": "28962507",
   "metadata": {},
   "outputs": [],
   "source": [
    "# para cada cliente - rodar o processo de emissao de nota fiscal\n",
    "for linha in tabela.index:\n",
    "    # preencher os dados da NF\n",
    "    \n",
    "    # nome/razao social\n",
    "    navegador.find_element(By.NAME, 'nome').send_keys(tabela.loc[linha, \"Cliente\"])\n",
    "\n",
    "    # endereco\n",
    "    navegador.find_element(By.NAME, 'endereco').send_keys(tabela.loc[linha, \"Endereço\"])\n",
    "\n",
    "    # bairro\n",
    "    navegador.find_element(By.NAME, 'bairro').send_keys(tabela.loc[linha, \"Bairro\"])\n",
    "\n",
    "    # municipio\n",
    "    navegador.find_element(By.NAME, 'municipio').send_keys(tabela.loc[linha, \"Municipio\"])\n",
    "\n",
    "    # cep\n",
    "    navegador.find_element(By.NAME, 'cep').send_keys(str(tabela.loc[linha, \"CEP\"]))\n",
    "    \n",
    "    # UF\n",
    "    navegador.find_element(By.NAME, 'uf').send_keys(tabela.loc[linha, \"UF\"])\n",
    "    \n",
    "    # CPF/CNPJ\n",
    "    navegador.find_element(By.NAME, 'cnpj').send_keys(str(tabela.loc[linha, \"CPF/CNPJ\"]))\n",
    "\n",
    "    # Inscricao estadual\n",
    "    navegador.find_element(By.NAME, 'inscricao').send_keys(str(tabela.loc[linha, \"Inscricao Estadual\"]))\n",
    "\n",
    "    # descrição\n",
    "    texto = tabela.loc[linha, \"Descrição\"]\n",
    "    navegador.find_element(By.NAME, 'descricao').send_keys(texto)\n",
    "\n",
    "    # quantidade\n",
    "    navegador.find_element(By.NAME, 'quantidade').send_keys(str(tabela.loc[linha, \"Quantidade\"]))\n",
    "\n",
    "    # valor unitario\n",
    "    navegador.find_element(By.NAME, 'valor_unitario').send_keys(str(tabela.loc[linha, \"Valor Unitario\"]))\n",
    "\n",
    "    # valor total\n",
    "    navegador.find_element(By.NAME, 'total').send_keys(str(tabela.loc[linha, \"Valor Total\"]))\n",
    "    \n",
    "    # clicar em emitir nota fiscal\n",
    "    navegador.find_element(By.CLASS_NAME, 'registerbtn').click()\n",
    "    \n",
    "    # recarregar a página para limpar o formulário\n",
    "    navegador.refresh()"
   ]
  },
  {
   "cell_type": "code",
   "execution_count": null,
   "id": "e7876e5b",
   "metadata": {},
   "outputs": [],
   "source": [
    "navegador.quit()"
   ]
  }
 ],
 "metadata": {
  "kernelspec": {
   "display_name": "Python 3.10.8 ('NotaFiscal')",
   "language": "python",
   "name": "python3"
  },
  "language_info": {
   "codemirror_mode": {
    "name": "ipython",
    "version": 3
   },
   "file_extension": ".py",
   "mimetype": "text/x-python",
   "name": "python",
   "nbconvert_exporter": "python",
   "pygments_lexer": "ipython3",
   "version": "3.10.8"
  },
  "vscode": {
   "interpreter": {
    "hash": "6ce7974560647982eda3a1c01b4cdaa8bf720ac5f2e76c26f5233c3888cf4ea8"
   }
  }
 },
 "nbformat": 4,
 "nbformat_minor": 5
}
